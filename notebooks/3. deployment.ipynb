{
 "cells": [
  {
   "cell_type": "markdown",
   "metadata": {},
   "source": [
    "# Deployment\n",
    "\n",
    "Now we're going to deploy our containers to a local kubernetes environment for practice. In order to deploy your container you're going to need a few things:\n",
    "    1. Access to linux machine\n",
    "    2. A container that's been pushed to docker hub\n",
    "    3. minikube downloaded on linux machine\n",
    "    4. kubectl\n",
    "    5. kvm\n",
    "    6. deployment.yaml file\n",
    "    7. service.yaml file\n",
    "\n",
    "- download minikube kubectl docker\n",
    "- start minikube cluster:\n"
   ]
  },
  {
   "cell_type": "code",
   "execution_count": null,
   "metadata": {
    "vscode": {
     "languageId": "plaintext"
    }
   },
   "outputs": [],
   "source": [
    "minikube start"
   ]
  },
  {
   "cell_type": "markdown",
   "metadata": {},
   "source": [
    "- authenticate with docker hub"
   ]
  },
  {
   "cell_type": "code",
   "execution_count": null,
   "metadata": {
    "vscode": {
     "languageId": "plaintext"
    }
   },
   "outputs": [],
   "source": [
    "docker login"
   ]
  },
  {
   "cell_type": "markdown",
   "metadata": {},
   "source": [
    "- pull docker image"
   ]
  },
  {
   "cell_type": "code",
   "execution_count": null,
   "metadata": {
    "vscode": {
     "languageId": "plaintext"
    }
   },
   "outputs": [],
   "source": [
    "docker pull username/image-name:tag "
   ]
  },
  {
   "cell_type": "markdown",
   "metadata": {},
   "source": [
    "- create deplyment YAML file\n",
    "    add more instructions and information about the files\n",
    "    which things need to be same compared to dockerfile etc\n",
    "\n",
    "- deploy application to kubernetes by \"uploading\"(?) the deployment and service yaml files:"
   ]
  },
  {
   "cell_type": "code",
   "execution_count": null,
   "metadata": {
    "vscode": {
     "languageId": "plaintext"
    }
   },
   "outputs": [],
   "source": [
    "kubectl apply -f /path/to/deployment.yaml -f /path/to/service.yaml\n"
   ]
  },
  {
   "cell_type": "markdown",
   "metadata": {},
   "source": [
    "- verify deployment and services:"
   ]
  },
  {
   "cell_type": "code",
   "execution_count": null,
   "metadata": {
    "vscode": {
     "languageId": "plaintext"
    }
   },
   "outputs": [],
   "source": [
    "kubectl get deployments # Check deployment status\n",
    "kubectl get services # Check service status"
   ]
  },
  {
   "cell_type": "markdown",
   "metadata": {},
   "source": [
    "- access the application via minikube:"
   ]
  },
  {
   "cell_type": "code",
   "execution_count": null,
   "metadata": {
    "vscode": {
     "languageId": "plaintext"
    }
   },
   "outputs": [],
   "source": [
    "minikube service myapp-service"
   ]
  }
 ],
 "metadata": {
  "kernelspec": {
   "display_name": "Python 3",
   "language": "python",
   "name": "python3"
  },
  "language_info": {
   "name": "python",
   "version": "3.11.9"
  }
 },
 "nbformat": 4,
 "nbformat_minor": 2
}
